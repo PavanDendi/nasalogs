{
 "cells": [
  {
   "cell_type": "markdown",
   "metadata": {},
   "source": [
    "#### Imports needed for the notebook"
   ]
  },
  {
   "cell_type": "code",
   "execution_count": 1,
   "metadata": {},
   "outputs": [],
   "source": [
    "import org.apache.spark.sql.functions._\n",
    "import org.apache.spark.sql.DataFrame\n",
    "import org.apache.spark.sql.expressions.Window\n",
    "import org.apache.spark.SparkFiles"
   ]
  },
  {
   "cell_type": "markdown",
   "metadata": {},
   "source": [
    "#### Download data file and convert to DataFrame for later manipulation"
   ]
  },
  {
   "cell_type": "code",
   "execution_count": 2,
   "metadata": {},
   "outputs": [
    {
     "data": {
      "text/plain": [
       "dataUrl = ftp://ita.ee.lbl.gov/traces/NASA_access_log_Jul95.gz\n",
       "ingestDF = [value: string]\n"
      ]
     },
     "metadata": {},
     "output_type": "display_data"
    },
    {
     "data": {
      "text/plain": [
       "[value: string]"
      ]
     },
     "execution_count": 2,
     "metadata": {},
     "output_type": "execute_result"
    }
   ],
   "source": [
    "val dataUrl = \"ftp://ita.ee.lbl.gov/traces/NASA_access_log_Jul95.gz\"\n",
    "sc.addFile(dataUrl)\n",
    "val ingestDF = spark.read.text(SparkFiles.get(\"NASA_access_log_Jul95.gz\"))"
   ]
  },
  {
   "cell_type": "code",
   "execution_count": 3,
   "metadata": {
    "scrolled": true
   },
   "outputs": [
    {
     "data": {
      "text/html": [
       "<table><tr><th>value</th></tr><tr><td>199.72.81.55 - - [01/Jul/1995:00:00:01 -0400] \"GET /history/apollo/ HTTP/1.0\" 200 6245</td></tr><tr><td>unicomp6.unicomp.net - - [01/Jul/1995:00:00:06 -0400] \"GET /shuttle/countdown/ HTTP/1.0\" 200 3985</td></tr><tr><td>199.120.110.21 - - [01/Jul/1995:00:00:09 -0400] \"GET /shuttle/missions/sts-73/mission-sts-73.html HTTP/1.0\" 200 4085</td></tr><tr><td>burger.letters.com - - [01/Jul/1995:00:00:11 -0400] \"GET /shuttle/countdown/liftoff.html HTTP/1.0\" 304 0</td></tr><tr><td>199.120.110.21 - - [01/Jul/1995:00:00:11 -0400] \"GET /shuttle/missions/sts-73/sts-73-patch-small.gif HTTP/1.0\" 200 4179</td></tr><tr><td>burger.letters.com - - [01/Jul/1995:00:00:12 -0400] \"GET /images/NASA-logosmall.gif HTTP/1.0\" 304 0</td></tr><tr><td>burger.letters.com - - [01/Jul/1995:00:00:12 -0400] \"GET /shuttle/countdown/video/livevideo.gif HTTP/1.0\" 200 0</td></tr><tr><td>205.212.115.106 - - [01/Jul/1995:00:00:12 -0400] \"GET /shuttle/countdown/countdown.html HTTP/1.0\" 200 3985</td></tr><tr><td>d104.aa.net - - [01/Jul/1995:00:00:13 -0400] \"GET /shuttle/countdown/ HTTP/1.0\" 200 3985</td></tr><tr><td>129.94.144.152 - - [01/Jul/1995:00:00:13 -0400] \"GET / HTTP/1.0\" 200 7074</td></tr></table>"
      ]
     },
     "execution_count": 3,
     "metadata": {},
     "output_type": "execute_result"
    }
   ],
   "source": [
    "%%dataframe\n",
    "ingestDF"
   ]
  },
  {
   "cell_type": "markdown",
   "metadata": {},
   "source": [
    "#### Extract fields from each line of the log file using regular expressions  \n",
    "Regex modified from article \"Web Server Log Analysis with Spark\", part (2b)  \n",
    "https://adataanalyst.com/spark/web-server-log-analysis-spark/"
   ]
  },
  {
   "cell_type": "code",
   "execution_count": 4,
   "metadata": {},
   "outputs": [
    {
     "data": {
      "text/plain": [
       "parseDF = [host: string, timestamp: string ... 3 more fields]\n"
      ]
     },
     "metadata": {},
     "output_type": "display_data"
    },
    {
     "data": {
      "text/plain": [
       "[host: string, timestamp: string ... 3 more fields]"
      ]
     },
     "execution_count": 4,
     "metadata": {},
     "output_type": "execute_result"
    }
   ],
   "source": [
    "val parseDF = ingestDF.select(\n",
    "        regexp_extract($\"value\", \"\"\"^([^(\\s|,)]+)\"\"\", 1).as(\"host\"),\n",
    "        regexp_extract($\"value\", \"\"\"^.*\\[(\\d\\d/\\w{3}/\\d{4}:\\d{2}:\\d{2}:\\d{2})\"\"\", 1).as(\"timestamp\"),\n",
    "        regexp_extract($\"value\", \"\"\"^.*\\w+\\s+([^\\s]+)\\s+HTTP.*\"\"\", 1).as(\"path\"),\n",
    "        regexp_extract($\"value\", \"\"\"^.*\"\\s+([^\\s]+)\"\"\", 1).cast(\"integer\").as(\"status\"),\n",
    "        regexp_extract($\"value\", \"\"\"^.*\\s+(\\d+)$\"\"\", 1).cast(\"integer\").as(\"content_size\"))\n",
    "parseDF.cache"
   ]
  },
  {
   "cell_type": "code",
   "execution_count": 5,
   "metadata": {},
   "outputs": [
    {
     "data": {
      "text/html": [
       "<table><tr><th>host</th><th>timestamp</th><th>path</th><th>status</th><th>content_size</th></tr><tr><td>199.72.81.55</td><td>01/Jul/1995:00:00:01</td><td>/history/apollo/</td><td>200</td><td>6245</td></tr><tr><td>unicomp6.unicomp.net</td><td>01/Jul/1995:00:00:06</td><td>/shuttle/countdown/</td><td>200</td><td>3985</td></tr><tr><td>199.120.110.21</td><td>01/Jul/1995:00:00:09</td><td>/shuttle/missions/sts-73/mission-sts-73.html</td><td>200</td><td>4085</td></tr><tr><td>burger.letters.com</td><td>01/Jul/1995:00:00:11</td><td>/shuttle/countdown/liftoff.html</td><td>304</td><td>0</td></tr><tr><td>199.120.110.21</td><td>01/Jul/1995:00:00:11</td><td>/shuttle/missions/sts-73/sts-73-patch-small.gif</td><td>200</td><td>4179</td></tr><tr><td>burger.letters.com</td><td>01/Jul/1995:00:00:12</td><td>/images/NASA-logosmall.gif</td><td>304</td><td>0</td></tr><tr><td>burger.letters.com</td><td>01/Jul/1995:00:00:12</td><td>/shuttle/countdown/video/livevideo.gif</td><td>200</td><td>0</td></tr><tr><td>205.212.115.106</td><td>01/Jul/1995:00:00:12</td><td>/shuttle/countdown/countdown.html</td><td>200</td><td>3985</td></tr><tr><td>d104.aa.net</td><td>01/Jul/1995:00:00:13</td><td>/shuttle/countdown/</td><td>200</td><td>3985</td></tr><tr><td>129.94.144.152</td><td>01/Jul/1995:00:00:13</td><td>/</td><td>200</td><td>7074</td></tr></table>"
      ]
     },
     "execution_count": 5,
     "metadata": {},
     "output_type": "execute_result"
    }
   ],
   "source": [
    "%%dataframe\n",
    "parseDF"
   ]
  },
  {
   "cell_type": "markdown",
   "metadata": {},
   "source": [
    "#### Utility function to check parsing quality by counting nulls and empty strings"
   ]
  },
  {
   "cell_type": "code",
   "execution_count": 6,
   "metadata": {},
   "outputs": [
    {
     "data": {
      "text/plain": [
       "countNE: (df: org.apache.spark.sql.DataFrame)Unit\n"
      ]
     },
     "metadata": {},
     "output_type": "display_data"
    }
   ],
   "source": [
    "def countNE(df: DataFrame) {\n",
    "    println(\"         Column           Null          Empty\")\n",
    "    for (c <- df.columns) {\n",
    "        val nullCount = df.filter(col(c).isNull).count\n",
    "        val emptyCount = df.filter(col(c) === \"\").count\n",
    "        println(f\"$c%15s$nullCount%15s$emptyCount%15s\")\n",
    "    }\n",
    "}"
   ]
  },
  {
   "cell_type": "code",
   "execution_count": 7,
   "metadata": {
    "scrolled": false
   },
   "outputs": [
    {
     "name": "stdout",
     "output_type": "stream",
     "text": [
      "         Column           Null          Empty\n",
      "           host              0              0\n",
      "      timestamp              0              1\n",
      "           path              0           3094\n",
      "         status              1              0\n",
      "   content_size          19727              0\n"
     ]
    }
   ],
   "source": [
    "countNE(parseDF)"
   ]
  },
  {
   "cell_type": "markdown",
   "metadata": {},
   "source": [
    "#### There are a lot of nulls in the `content_size` column.  Let's take a closer look to see if it's a parsing error."
   ]
  },
  {
   "cell_type": "code",
   "execution_count": 8,
   "metadata": {
    "scrolled": true
   },
   "outputs": [
    {
     "data": {
      "text/html": [
       "<table><tr><th>host</th><th>timestamp</th><th>path</th><th>status</th><th>content_size</th></tr><tr><td>dd15-062.compuserve.com</td><td>01/Jul/1995:00:01:12</td><td>/news/sci.space.shuttle/archive/sci-space-shuttle-22-apr-1995-40.txt</td><td>404</td><td>null</td></tr><tr><td>dynip42.efn.org</td><td>01/Jul/1995:00:02:14</td><td>/software</td><td>302</td><td>null</td></tr><tr><td>ix-or10-06.ix.netcom.com</td><td>01/Jul/1995:00:02:40</td><td>/software/winvn</td><td>302</td><td>null</td></tr><tr><td>ix-or10-06.ix.netcom.com</td><td>01/Jul/1995:00:03:24</td><td>/software</td><td>302</td><td>null</td></tr><tr><td>link097.txdirect.net</td><td>01/Jul/1995:00:05:06</td><td>/shuttle</td><td>302</td><td>null</td></tr><tr><td>ix-war-mi1-20.ix.netcom.com</td><td>01/Jul/1995:00:05:13</td><td>/shuttle/missions/sts-78/news</td><td>302</td><td>null</td></tr><tr><td>ix-war-mi1-20.ix.netcom.com</td><td>01/Jul/1995:00:05:58</td><td>/shuttle/missions/sts-72/news</td><td>302</td><td>null</td></tr><tr><td>netport-27.iu.net</td><td>01/Jul/1995:00:10:19</td><td>/pub/winvn/readme.txt</td><td>404</td><td>null</td></tr><tr><td>netport-27.iu.net</td><td>01/Jul/1995:00:10:28</td><td>/pub/winvn/readme.txt</td><td>404</td><td>null</td></tr><tr><td>dynip38.efn.org</td><td>01/Jul/1995:00:10:50</td><td>/software</td><td>302</td><td>null</td></tr><tr><td>129.188.154.200</td><td>01/Jul/1995:00:11:14</td><td>/shuttle/missions</td><td>302</td><td>null</td></tr><tr><td>129.188.154.200</td><td>01/Jul/1995:00:11:35</td><td>/shuttle</td><td>302</td><td>null</td></tr><tr><td>129.188.154.200</td><td>01/Jul/1995:00:12:51</td><td>/shuttle</td><td>302</td><td>null</td></tr><tr><td>blv-pm0-ip28.halcyon.com</td><td>01/Jul/1995:00:14:17</td><td>/persons/astronauts/i-to-l/lousmaJR.txt</td><td>404</td><td>null</td></tr><tr><td>blv-pm0-ip28.halcyon.com</td><td>01/Jul/1995:00:14:32</td><td>/persons/astronauts/a-to-d/beanAL.txt</td><td>404</td><td>null</td></tr><tr><td>detroit.freenet.org</td><td>01/Jul/1995:00:16:10</td><td>/shuttle/countdown</td><td>302</td><td>null</td></tr><tr><td>news.ti.com</td><td>01/Jul/1995:00:17:19</td><td>/shuttle/missions/sts-71/news</td><td>302</td><td>null</td></tr><tr><td>cu-dialup-1005.cit.cornell.edu</td><td>01/Jul/1995:00:18:39</td><td>/pub/winvn/readme.txt</td><td>404</td><td>null</td></tr><tr><td>cu-dialup-1005.cit.cornell.edu</td><td>01/Jul/1995:00:18:45</td><td>/pub/winvn/readme.txt</td><td>404</td><td>null</td></tr><tr><td>cu-dialup-1005.cit.cornell.edu</td><td>01/Jul/1995:00:18:49</td><td>/pub/winvn/release.txt</td><td>404</td><td>null</td></tr><tr><td>mimas.execpc.com</td><td>01/Jul/1995:00:18:59</td><td>/shuttle/missions/technology/sts-newsref/stsref-toc.html</td><td>404</td><td>null</td></tr><tr><td>acs4.acs.ucalgary.ca</td><td>01/Jul/1995:00:19:17</td><td>/shuttle/missions/sts-71/news</td><td>302</td><td>null</td></tr><tr><td>sam-slip-l6.neosoft.com</td><td>01/Jul/1995:00:22:09</td><td>/shuttle/countdown</td><td>302</td><td>null</td></tr><tr><td>chi067.wwa.com</td><td>01/Jul/1995:00:22:31</td><td>/images</td><td>302</td><td>null</td></tr><tr><td>zoom112.telepath.com</td><td>01/Jul/1995:00:25:27</td><td>/history/apollo-13/apollo-13.html</td><td>404</td><td>null</td></tr><tr><td>blv-pm2-ip16.halcyon.com</td><td>01/Jul/1995:00:28:55</td><td>/shuttle/missions/sts-71/news</td><td>302</td><td>null</td></tr><tr><td>dd11-006.compuserve.com</td><td>01/Jul/1995:00:29:15</td><td>/shuttle/missions/sts-71/news</td><td>302</td><td>null</td></tr><tr><td>ssandyg.scvnet.com</td><td>01/Jul/1995:00:29:30</td><td>/shuttle/countdown</td><td>302</td><td>null</td></tr><tr><td>ad08-027.compuserve.com</td><td>01/Jul/1995:00:37:55</td><td>/shuttle/missions/sts-71/images/KSC-95EC-0916.txt</td><td>404</td><td>null</td></tr><tr><td>ad08-027.compuserve.com</td><td>01/Jul/1995:00:38:02</td><td>/shuttle/missions/sts-71/images/KSC-95EC-0916.txt</td><td>404</td><td>null</td></tr><tr><td>net79.metronet.com</td><td>01/Jul/1995:00:38:30</td><td>/images</td><td>302</td><td>null</td></tr><tr><td>kcrw17.smc.edu</td><td>01/Jul/1995:00:42:00</td><td>/shuttle/missions/sts-71/news</td><td>302</td><td>null</td></tr><tr><td>piweba3y.prodigy.com</td><td>01/Jul/1995:00:44:27</td><td>/shuttle/missions/sts-71/images/KSC-95EC-0916.txt</td><td>404</td><td>null</td></tr><tr><td>ix-wbg-va2-26.ix.netcom.com</td><td>01/Jul/1995:00:44:40</td><td>/history/apollo</td><td>302</td><td>null</td></tr><tr><td>piweba3y.prodigy.com</td><td>01/Jul/1995:00:44:47</td><td>/shuttle/missions/sts-71/images/KSC-95EC-0916.txt</td><td>404</td><td>null</td></tr><tr><td>204.212.153.234</td><td>01/Jul/1995:00:45:16</td><td>/pub/winvn/readme.txt</td><td>404</td><td>null</td></tr><tr><td>204.212.153.234</td><td>01/Jul/1995:00:45:26</td><td>/pub/winvn/release.txt</td><td>404</td><td>null</td></tr><tr><td>ix-wbg-va2-26.ix.netcom.com</td><td>01/Jul/1995:00:45:45</td><td>/history/apollo/pad-abort-test-1/pad-abort-test-1-patch-small.gif</td><td>404</td><td>null</td></tr><tr><td>ix-wbg-va2-26.ix.netcom.com</td><td>01/Jul/1995:00:45:56</td><td>/history/apollo/pad-abort-test-1/images/</td><td>404</td><td>null</td></tr><tr><td>ix-wbg-va2-26.ix.netcom.com</td><td>01/Jul/1995:00:46:05</td><td>/history/apollo/pad-abort-test-1/sounds/</td><td>404</td><td>null</td></tr><tr><td>ix-wbg-va2-26.ix.netcom.com</td><td>01/Jul/1995:00:46:09</td><td>/history/apollo/pad-abort-test-1/movies/</td><td>404</td><td>null</td></tr><tr><td>ix-wbg-va2-26.ix.netcom.com</td><td>01/Jul/1995:00:46:12</td><td>/history/apollo/pad-abort-test-1/docs/</td><td>404</td><td>null</td></tr><tr><td>ix-wbg-va2-26.ix.netcom.com</td><td>01/Jul/1995:00:46:15</td><td>/history/apollo/pad-abort-test-1/news/</td><td>404</td><td>null</td></tr><tr><td>www-b6.proxy.aol.com</td><td>01/Jul/1995:00:53:22</td><td>/:/spacelink.msfc.nasa.gov</td><td>404</td><td>null</td></tr><tr><td>204.120.34.171</td><td>01/Jul/1995:00:57:20</td><td>/shuttle/missions/sts-78/news</td><td>302</td><td>null</td></tr><tr><td>galactica.galactica.it</td><td>01/Jul/1995:00:58:10</td><td>/pub/winvn/release.txt</td><td>404</td><td>null</td></tr><tr><td>pmcol12.ebicom.net</td><td>01/Jul/1995:01:03:31</td><td>/images</td><td>302</td><td>null</td></tr><tr><td>204.191.209.4</td><td>01/Jul/1995:01:04:14</td><td>/shuttle/missions/sts-69/news</td><td>302</td><td>null</td></tr><tr><td>gateway.cary.ibm.com</td><td>01/Jul/1995:01:04:20</td><td>/images</td><td>302</td><td>null</td></tr><tr><td>ix-sac6-27.ix.netcom.com</td><td>01/Jul/1995:01:05:46</td><td>/history/apollo/publications/sp-350/sp-350.txt~</td><td>404</td><td>null</td></tr></table>"
      ]
     },
     "execution_count": 8,
     "metadata": {},
     "output_type": "execute_result"
    }
   ],
   "source": [
    "%%dataframe --limit 50\n",
    "parseDF.filter($\"content_size\".isNull)"
   ]
  },
  {
   "cell_type": "markdown",
   "metadata": {},
   "source": [
    "#### Nulls in `content_size` look like they are a result of bad requests, not parsing errors.\n",
    "We don't need this column for the final result so we'll drop it going forward.\n",
    "Let's now look at the single null in the `status` column"
   ]
  },
  {
   "cell_type": "code",
   "execution_count": 9,
   "metadata": {},
   "outputs": [
    {
     "name": "stdout",
     "output_type": "stream",
     "text": [
      "+--------+---------+----+------+------------+\n",
      "|    host|timestamp|path|status|content_size|\n",
      "+--------+---------+----+------+------------+\n",
      "|alyssa.p|         |    |  null|        null|\n",
      "+--------+---------+----+------+------------+\n",
      "\n"
     ]
    }
   ],
   "source": [
    "parseDF.filter($\"status\".isNull).show"
   ]
  },
  {
   "cell_type": "markdown",
   "metadata": {},
   "source": [
    "#### This looks like bad data in the log file.\n",
    "`status` column can also be dropped since we don't need it to get the final result.  \n",
    "However, this would still leave the row of bad data.  \n",
    "To filter bad data, we'll remove any rows where `timestamp` is empty.  \n",
    "We will leave the rows where `path` is empty as that could still be valid data."
   ]
  },
  {
   "cell_type": "code",
   "execution_count": 10,
   "metadata": {},
   "outputs": [
    {
     "data": {
      "text/plain": [
       "filterDF = [host: string, timestamp: string ... 1 more field]\n"
      ]
     },
     "metadata": {},
     "output_type": "display_data"
    },
    {
     "data": {
      "text/plain": [
       "[host: string, timestamp: string ... 1 more field]"
      ]
     },
     "execution_count": 10,
     "metadata": {},
     "output_type": "execute_result"
    }
   ],
   "source": [
    "val filterDF = parseDF.drop(\"status\",\"content_size\")\n",
    "                    .filter($\"timestamp\" =!= \"\")"
   ]
  },
  {
   "cell_type": "markdown",
   "metadata": {},
   "source": [
    "#### Let's do a sanity check to make sure we aren't throwing away too much of the original data"
   ]
  },
  {
   "cell_type": "code",
   "execution_count": 11,
   "metadata": {},
   "outputs": [
    {
     "name": "stdout",
     "output_type": "stream",
     "text": [
      "         Column           Null          Empty\n",
      "           host              0              0\n",
      "      timestamp              0              0\n",
      "           path              0           3093\n",
      "1891715\n",
      "1891714\n"
     ]
    }
   ],
   "source": [
    "countNE(filterDF)\n",
    "println(ingestDF.count)\n",
    "println(filterDF.count)"
   ]
  },
  {
   "cell_type": "markdown",
   "metadata": {},
   "source": [
    "#### Extract `date` column from `timestamp`"
   ]
  },
  {
   "cell_type": "code",
   "execution_count": 12,
   "metadata": {},
   "outputs": [
    {
     "data": {
      "text/plain": [
       "curateDF = [host: string, path: string ... 1 more field]\n"
      ]
     },
     "metadata": {},
     "output_type": "display_data"
    },
    {
     "data": {
      "text/plain": [
       "[host: string, path: string ... 1 more field]"
      ]
     },
     "execution_count": 12,
     "metadata": {},
     "output_type": "execute_result"
    }
   ],
   "source": [
    "val curateDF = filterDF.withColumn(\"date\",$\"timestamp\".substr(1,11))\n",
    "                      .drop(\"timestamp\")"
   ]
  },
  {
   "cell_type": "code",
   "execution_count": 13,
   "metadata": {},
   "outputs": [
    {
     "data": {
      "text/html": [
       "<table><tr><th>host</th><th>path</th><th>date</th></tr><tr><td>199.72.81.55</td><td>/history/apollo/</td><td>01/Jul/1995</td></tr><tr><td>unicomp6.unicomp.net</td><td>/shuttle/countdown/</td><td>01/Jul/1995</td></tr><tr><td>199.120.110.21</td><td>/shuttle/missions/sts-73/mission-sts-73.html</td><td>01/Jul/1995</td></tr><tr><td>burger.letters.com</td><td>/shuttle/countdown/liftoff.html</td><td>01/Jul/1995</td></tr><tr><td>199.120.110.21</td><td>/shuttle/missions/sts-73/sts-73-patch-small.gif</td><td>01/Jul/1995</td></tr><tr><td>burger.letters.com</td><td>/images/NASA-logosmall.gif</td><td>01/Jul/1995</td></tr><tr><td>burger.letters.com</td><td>/shuttle/countdown/video/livevideo.gif</td><td>01/Jul/1995</td></tr><tr><td>205.212.115.106</td><td>/shuttle/countdown/countdown.html</td><td>01/Jul/1995</td></tr><tr><td>d104.aa.net</td><td>/shuttle/countdown/</td><td>01/Jul/1995</td></tr><tr><td>129.94.144.152</td><td>/</td><td>01/Jul/1995</td></tr></table>"
      ]
     },
     "execution_count": 13,
     "metadata": {},
     "output_type": "execute_result"
    }
   ],
   "source": [
    "%%dataframe\n",
    "curateDF"
   ]
  },
  {
   "cell_type": "markdown",
   "metadata": {},
   "source": [
    "#### Finally, rank the top N hosts and paths for each day\n",
    "We'll make this generic so it's easy to add any future columns to the ranking."
   ]
  },
  {
   "cell_type": "code",
   "execution_count": 14,
   "metadata": {},
   "outputs": [
    {
     "data": {
      "text/plain": [
       "colNames = Array(host, path)\n",
       "topN = 3\n",
       "finalDF = [date: string, rank: int ... 4 more fields]\n"
      ]
     },
     "metadata": {},
     "output_type": "display_data"
    },
    {
     "data": {
      "text/plain": [
       "[date: string, rank: int ... 4 more fields]"
      ]
     },
     "execution_count": 14,
     "metadata": {},
     "output_type": "execute_result"
    }
   ],
   "source": [
    "val colNames = Array(\"host\",\"path\")\n",
    "val topN = 3\n",
    "\n",
    "val finalDF = (for (colName <- colNames) yield {\n",
    "                  curateDF.groupBy(\"date\",colName).count\n",
    "                    .withColumn(s\"count_${colName}\", $\"count\".cast(\"integer\")).drop(\"count\")\n",
    "                    .withColumn(\"rank\", row_number().over(Window.partitionBy(\"date\").orderBy(col(s\"count_${colName}\").desc)))\n",
    "                    .filter($\"rank\" <= topN)\n",
    "                }).reduce(_.join(_, Seq(\"date\",\"rank\")))\n",
    "                  .orderBy(\"date\",\"rank\")"
   ]
  },
  {
   "cell_type": "code",
   "execution_count": 15,
   "metadata": {},
   "outputs": [
    {
     "data": {
      "text/html": [
       "<table><tr><th>date</th><th>rank</th><th>host</th><th>count_host</th><th>path</th><th>count_path</th></tr><tr><td>01/Jul/1995</td><td>1</td><td>piweba3y.prodigy.com</td><td>623</td><td>/images/NASA-logosmall.gif</td><td>3960</td></tr><tr><td>01/Jul/1995</td><td>2</td><td>piweba4y.prodigy.com</td><td>547</td><td>/images/KSC-logosmall.gif</td><td>3521</td></tr><tr><td>01/Jul/1995</td><td>3</td><td>alyssa.prodigy.com</td><td>536</td><td>/shuttle/countdown/count.gif</td><td>2684</td></tr><tr><td>02/Jul/1995</td><td>1</td><td>piweba3y.prodigy.com</td><td>960</td><td>/images/NASA-logosmall.gif</td><td>3406</td></tr><tr><td>02/Jul/1995</td><td>2</td><td>alyssa.prodigy.com</td><td>578</td><td>/images/KSC-logosmall.gif</td><td>3093</td></tr><tr><td>02/Jul/1995</td><td>3</td><td>piweba1y.prodigy.com</td><td>432</td><td>/shuttle/countdown/count.gif</td><td>2302</td></tr><tr><td>03/Jul/1995</td><td>1</td><td>piweba3y.prodigy.com</td><td>1067</td><td>/images/NASA-logosmall.gif</td><td>5563</td></tr><tr><td>03/Jul/1995</td><td>2</td><td>134.83.184.18</td><td>413</td><td>/images/KSC-logosmall.gif</td><td>4648</td></tr><tr><td>03/Jul/1995</td><td>3</td><td>alyssa.prodigy.com</td><td>368</td><td>/shuttle/countdown/count.gif</td><td>3660</td></tr><tr><td>04/Jul/1995</td><td>1</td><td>piweba3y.prodigy.com</td><td>1199</td><td>/images/NASA-logosmall.gif</td><td>3853</td></tr><tr><td>04/Jul/1995</td><td>2</td><td>alyssa.prodigy.com</td><td>828</td><td>/images/KSC-logosmall.gif</td><td>3590</td></tr><tr><td>04/Jul/1995</td><td>3</td><td>pcrb.ccrs.emr.ca</td><td>460</td><td>/shuttle/countdown/count.gif</td><td>2619</td></tr><tr><td>05/Jul/1995</td><td>1</td><td>news.ti.com</td><td>826</td><td>/images/NASA-logosmall.gif</td><td>6156</td></tr><tr><td>05/Jul/1995</td><td>2</td><td>piweba3y.prodigy.com</td><td>664</td><td>/images/KSC-logosmall.gif</td><td>5149</td></tr><tr><td>05/Jul/1995</td><td>3</td><td>alyssa.prodigy.com</td><td>473</td><td>/shuttle/countdown/count.gif</td><td>3631</td></tr><tr><td>06/Jul/1995</td><td>1</td><td>piweba3y.prodigy.com</td><td>732</td><td>/images/NASA-logosmall.gif</td><td>6220</td></tr><tr><td>06/Jul/1995</td><td>2</td><td>alyssa.prodigy.com</td><td>682</td><td>/images/KSC-logosmall.gif</td><td>5203</td></tr><tr><td>06/Jul/1995</td><td>3</td><td>piweba1y.prodigy.com</td><td>433</td><td>/shuttle/countdown/count.gif</td><td>3495</td></tr><tr><td>07/Jul/1995</td><td>1</td><td>piweba3y.prodigy.com</td><td>879</td><td>/images/NASA-logosmall.gif</td><td>5047</td></tr><tr><td>07/Jul/1995</td><td>2</td><td>alyssa.prodigy.com</td><td>767</td><td>/images/KSC-logosmall.gif</td><td>4135</td></tr><tr><td>07/Jul/1995</td><td>3</td><td>piweba1y.prodigy.com</td><td>546</td><td>/images/MOSAIC-logosmall.gif</td><td>2816</td></tr><tr><td>08/Jul/1995</td><td>1</td><td>piweba3y.prodigy.com</td><td>781</td><td>/images/NASA-logosmall.gif</td><td>1713</td></tr><tr><td>08/Jul/1995</td><td>2</td><td>alyssa.prodigy.com</td><td>760</td><td>/images/KSC-logosmall.gif</td><td>1625</td></tr><tr><td>08/Jul/1995</td><td>3</td><td>piweba1y.prodigy.com</td><td>570</td><td>/images/MOSAIC-logosmall.gif</td><td>1200</td></tr><tr><td>09/Jul/1995</td><td>1</td><td>alyssa.prodigy.com</td><td>545</td><td>/images/NASA-logosmall.gif</td><td>1459</td></tr><tr><td>09/Jul/1995</td><td>2</td><td>piweba4y.prodigy.com</td><td>533</td><td>/images/KSC-logosmall.gif</td><td>1435</td></tr><tr><td>09/Jul/1995</td><td>3</td><td>piweba3y.prodigy.com</td><td>490</td><td>/images/MOSAIC-logosmall.gif</td><td>1152</td></tr><tr><td>10/Jul/1995</td><td>1</td><td>e659229.boeing.com</td><td>358</td><td>/images/NASA-logosmall.gif</td><td>3730</td></tr><tr><td>10/Jul/1995</td><td>2</td><td>163.185.36.150</td><td>357</td><td>/images/KSC-logosmall.gif</td><td>3137</td></tr><tr><td>10/Jul/1995</td><td>3</td><td>alyssa.prodigy.com</td><td>322</td><td>/images/MOSAIC-logosmall.gif</td><td>2535</td></tr><tr><td>11/Jul/1995</td><td>1</td><td>bill.ksc.nasa.gov</td><td>1394</td><td>/images/NASA-logosmall.gif</td><td>5264</td></tr><tr><td>11/Jul/1995</td><td>2</td><td>indy.gradient.com</td><td>969</td><td>/images/KSC-logosmall.gif</td><td>3301</td></tr><tr><td>11/Jul/1995</td><td>3</td><td>marina.cea.berkeley.edu</td><td>612</td><td>/images/MOSAIC-logosmall.gif</td><td>2636</td></tr><tr><td>12/Jul/1995</td><td>1</td><td>indy.gradient.com</td><td>1356</td><td>/images/NASA-logosmall.gif</td><td>7338</td></tr><tr><td>12/Jul/1995</td><td>2</td><td>bill.ksc.nasa.gov</td><td>1317</td><td>/htbin/cdt_main.pl</td><td>4223</td></tr><tr><td>12/Jul/1995</td><td>3</td><td>marina.cea.berkeley.edu</td><td>1051</td><td>/images/KSC-logosmall.gif</td><td>3808</td></tr><tr><td>13/Jul/1995</td><td>1</td><td>piweba3y.prodigy.com</td><td>1202</td><td>/images/NASA-logosmall.gif</td><td>12087</td></tr><tr><td>13/Jul/1995</td><td>2</td><td>rush.internic.net</td><td>1119</td><td>/htbin/cdt_main.pl</td><td>6611</td></tr><tr><td>13/Jul/1995</td><td>3</td><td>piweba4y.prodigy.com</td><td>1003</td><td>/htbin/cdt_clock.pl</td><td>6201</td></tr><tr><td>14/Jul/1995</td><td>1</td><td>piweba4y.prodigy.com</td><td>1029</td><td>/images/NASA-logosmall.gif</td><td>4869</td></tr><tr><td>14/Jul/1995</td><td>2</td><td>siltb10.orl.mmc.com</td><td>872</td><td>/images/KSC-logosmall.gif</td><td>3981</td></tr><tr><td>14/Jul/1995</td><td>3</td><td>piweba3y.prodigy.com</td><td>867</td><td>/images/MOSAIC-logosmall.gif</td><td>2928</td></tr><tr><td>15/Jul/1995</td><td>1</td><td>piweba4y.prodigy.com</td><td>974</td><td>/images/KSC-logosmall.gif</td><td>2406</td></tr><tr><td>15/Jul/1995</td><td>2</td><td>piweba3y.prodigy.com</td><td>949</td><td>/images/NASA-logosmall.gif</td><td>2224</td></tr><tr><td>15/Jul/1995</td><td>3</td><td>siltb10.orl.mmc.com</td><td>881</td><td>/images/MOSAIC-logosmall.gif</td><td>1353</td></tr><tr><td>16/Jul/1995</td><td>1</td><td>piweba3y.prodigy.com</td><td>1280</td><td>/images/KSC-logosmall.gif</td><td>2328</td></tr><tr><td>16/Jul/1995</td><td>2</td><td>piweba4y.prodigy.com</td><td>1269</td><td>/images/NASA-logosmall.gif</td><td>2080</td></tr><tr><td>16/Jul/1995</td><td>3</td><td>siltb10.orl.mmc.com</td><td>874</td><td>/history/apollo/images/apollo-logo1.gif</td><td>1350</td></tr><tr><td>17/Jul/1995</td><td>1</td><td>siltb10.orl.mmc.com</td><td>850</td><td>/images/NASA-logosmall.gif</td><td>3943</td></tr><tr><td>17/Jul/1995</td><td>2</td><td>piweba4y.prodigy.com</td><td>460</td><td>/images/KSC-logosmall.gif</td><td>3604</td></tr><tr><td>17/Jul/1995</td><td>3</td><td>piweba1y.prodigy.com</td><td>422</td><td>/images/MOSAIC-logosmall.gif</td><td>2578</td></tr><tr><td>18/Jul/1995</td><td>1</td><td>siltb10.orl.mmc.com</td><td>518</td><td>/images/NASA-logosmall.gif</td><td>3502</td></tr><tr><td>18/Jul/1995</td><td>2</td><td>piweba3y.prodigy.com</td><td>459</td><td>/images/KSC-logosmall.gif</td><td>2973</td></tr><tr><td>18/Jul/1995</td><td>3</td><td>piweba4y.prodigy.com</td><td>403</td><td>/images/MOSAIC-logosmall.gif</td><td>2421</td></tr><tr><td>19/Jul/1995</td><td>1</td><td>siltb10.orl.mmc.com</td><td>847</td><td>/images/NASA-logosmall.gif</td><td>3724</td></tr><tr><td>19/Jul/1995</td><td>2</td><td>piweba3y.prodigy.com</td><td>616</td><td>/images/KSC-logosmall.gif</td><td>3401</td></tr><tr><td>19/Jul/1995</td><td>3</td><td>piweba4y.prodigy.com</td><td>386</td><td>/images/MOSAIC-logosmall.gif</td><td>2598</td></tr><tr><td>20/Jul/1995</td><td>1</td><td>siltb10.orl.mmc.com</td><td>884</td><td>/images/NASA-logosmall.gif</td><td>3537</td></tr><tr><td>20/Jul/1995</td><td>2</td><td>piweba3y.prodigy.com</td><td>430</td><td>/images/KSC-logosmall.gif</td><td>3225</td></tr><tr><td>20/Jul/1995</td><td>3</td><td>vagrant.vf.mmc.com</td><td>425</td><td>/images/MOSAIC-logosmall.gif</td><td>2613</td></tr><tr><td>21/Jul/1995</td><td>1</td><td>siltb10.orl.mmc.com</td><td>1354</td><td>/images/KSC-logosmall.gif</td><td>3569</td></tr><tr><td>21/Jul/1995</td><td>2</td><td>vagrant.vf.mmc.com</td><td>665</td><td>/images/NASA-logosmall.gif</td><td>3448</td></tr><tr><td>21/Jul/1995</td><td>3</td><td>piweba3y.prodigy.com</td><td>464</td><td>/images/MOSAIC-logosmall.gif</td><td>2415</td></tr><tr><td>22/Jul/1995</td><td>1</td><td>currypc.fpl.msstate.edu</td><td>700</td><td>/images/KSC-logosmall.gif</td><td>1699</td></tr><tr><td>22/Jul/1995</td><td>2</td><td>piweba3y.prodigy.com</td><td>541</td><td>/images/NASA-logosmall.gif</td><td>1627</td></tr><tr><td>22/Jul/1995</td><td>3</td><td>piweba4y.prodigy.com</td><td>361</td><td>/images/MOSAIC-logosmall.gif</td><td>1207</td></tr><tr><td>23/Jul/1995</td><td>1</td><td>currypc.fpl.msstate.edu</td><td>709</td><td>/images/KSC-logosmall.gif</td><td>1695</td></tr><tr><td>23/Jul/1995</td><td>2</td><td>piweba3y.prodigy.com</td><td>619</td><td>/images/NASA-logosmall.gif</td><td>1645</td></tr><tr><td>23/Jul/1995</td><td>3</td><td>piweba4y.prodigy.com</td><td>566</td><td>/images/MOSAIC-logosmall.gif</td><td>1294</td></tr><tr><td>24/Jul/1995</td><td>1</td><td>198.133.29.18</td><td>436</td><td>/images/NASA-logosmall.gif</td><td>3357</td></tr><tr><td>24/Jul/1995</td><td>2</td><td>edams.ksc.nasa.gov</td><td>336</td><td>/images/KSC-logosmall.gif</td><td>2777</td></tr><tr><td>24/Jul/1995</td><td>3</td><td>currypc.fpl.msstate.edu</td><td>303</td><td>/images/MOSAIC-logosmall.gif</td><td>2466</td></tr><tr><td>25/Jul/1995</td><td>1</td><td>jbiagioni.npt.nuwc.navy.mil</td><td>763</td><td>/images/NASA-logosmall.gif</td><td>3371</td></tr><tr><td>25/Jul/1995</td><td>2</td><td>piweba3y.prodigy.com</td><td>319</td><td>/images/KSC-logosmall.gif</td><td>2711</td></tr><tr><td>25/Jul/1995</td><td>3</td><td>arctic.nad.northrop.com</td><td>305</td><td>/images/MOSAIC-logosmall.gif</td><td>2584</td></tr><tr><td>26/Jul/1995</td><td>1</td><td>piweba3y.prodigy.com</td><td>312</td><td>/images/NASA-logosmall.gif</td><td>3146</td></tr><tr><td>26/Jul/1995</td><td>2</td><td>arctic.nad.northrop.com</td><td>274</td><td>/images/KSC-logosmall.gif</td><td>2728</td></tr><tr><td>26/Jul/1995</td><td>3</td><td>piweba4y.prodigy.com</td><td>265</td><td>/images/MOSAIC-logosmall.gif</td><td>2449</td></tr><tr><td>27/Jul/1995</td><td>1</td><td>edams.ksc.nasa.gov</td><td>283</td><td>/images/NASA-logosmall.gif</td><td>3265</td></tr><tr><td>27/Jul/1995</td><td>2</td><td>192.223.3.88</td><td>252</td><td>/images/KSC-logosmall.gif</td><td>2792</td></tr><tr><td>27/Jul/1995</td><td>3</td><td>jalisco.engr.ucdavis.edu</td><td>248</td><td>/images/USA-logosmall.gif</td><td>2516</td></tr><tr><td>28/Jul/1995</td><td>1</td><td>pcmas.it.bton.ac.uk</td><td>353</td><td>/images/NASA-logosmall.gif</td><td>1553</td></tr><tr><td>28/Jul/1995</td><td>2</td><td>poppy.hensa.ac.uk</td><td>203</td><td>/images/KSC-logosmall.gif</td><td>1286</td></tr><tr><td>28/Jul/1995</td><td>3</td><td>edams.ksc.nasa.gov</td><td>177</td><td>/images/MOSAIC-logosmall.gif</td><td>1195</td></tr></table>"
      ]
     },
     "execution_count": 15,
     "metadata": {},
     "output_type": "execute_result"
    }
   ],
   "source": [
    "%%dataframe --limit 200\n",
    "finalDF"
   ]
  },
  {
   "cell_type": "code",
   "execution_count": null,
   "metadata": {},
   "outputs": [],
   "source": []
  }
 ],
 "metadata": {
  "kernelspec": {
   "display_name": "Apache Toree - Scala",
   "language": "scala",
   "name": "apache_toree_scala"
  },
  "language_info": {
   "codemirror_mode": "text/x-scala",
   "file_extension": ".scala",
   "mimetype": "text/x-scala",
   "name": "scala",
   "pygments_lexer": "scala",
   "version": "2.11.12"
  }
 },
 "nbformat": 4,
 "nbformat_minor": 4
}
